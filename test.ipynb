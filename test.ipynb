{
 "cells": [
  {
   "cell_type": "code",
   "execution_count": 1,
   "metadata": {},
   "outputs": [],
   "source": [
    "import numpy as np"
   ]
  },
  {
   "cell_type": "code",
   "execution_count": 2,
   "metadata": {},
   "outputs": [
    {
     "name": "stderr",
     "output_type": "stream",
     "text": [
      "/home/demancum/miniconda3/envs/cocola/lib/python3.11/site-packages/tqdm/auto.py:21: TqdmWarning: IProgress not found. Please update jupyter and ipywidgets. See https://ipywidgets.readthedocs.io/en/stable/user_install.html\n",
      "  from .autonotebook import tqdm as notebook_tqdm\n"
     ]
    }
   ],
   "source": [
    "import os\n",
    "import torch\n",
    "from torch.utils.data import DataLoader, random_split\n",
    "from lightning.pytorch import Trainer"
   ]
  },
  {
   "cell_type": "code",
   "execution_count": 3,
   "metadata": {},
   "outputs": [],
   "source": [
    "os.environ['CUDA_VISIBLE_DEVICES'] = '0'  "
   ]
  },
  {
   "cell_type": "code",
   "execution_count": 4,
   "metadata": {},
   "outputs": [],
   "source": [
    "from contrastive_model.contrastive_model import CoCola\n",
    "from data.coco_chorales_contrastive_preprocessed import CocoChoralesContrastivePreprocessed\n",
    "from data.moisesdb_contrastive_preprocessed import MoisesdbContrastivePreprocessed\n",
    "from data.slakh2100_contrastive_preprocessed import Slakh2100ContrastivePreprocessed\n",
    "from data.musdb_contrastive_preprocessed import MusdbContrastivePreprocessed\n",
    "from contrastive_model import constants\n"
   ]
  },
  {
   "cell_type": "code",
   "execution_count": 27,
   "metadata": {},
   "outputs": [
    {
     "name": "stderr",
     "output_type": "stream",
     "text": [
      "GPU available: True (cuda), used: True\n",
      "TPU available: False, using: 0 TPU cores\n",
      "IPU available: False, using: 0 IPUs\n",
      "HPU available: False, using: 0 HPUs\n"
     ]
    }
   ],
   "source": [
    "#CHECKPOINT = '/speech/dbwork/mul/spielwiese4/students/demancum/cocola/k5llcdm8/checkpoints/epoch=21-step=21406.ckpt' #bumbling-breeze-34 bs=512 chunk_dur=2s\n",
    "#CHECKPOINT = '/speech/dbwork/mul/spielwiese4/students/demancum/cocola/r71kxj7r/checkpoints/epoch=36-step=29119.ckpt' #good-wave-24 bs=256 chunk_dur=5s\n",
    "#CHECKPOINT = '/speech/dbwork/mul/spielwiese4/students/demancum/cocola/shov44gs/checkpoints/epoch=24-step=19900.ckpt' #golden-dew-25 bs=128 chunk_dur=10s\n",
    "\n",
    "#CHECKPOINT = '/speech/dbwork/mul/spielwiese4/students/demancum/cocola/zr304efn/checkpoints/epoch=23-step=17448.ckpt' #flowing-sound-26 bs=96 chunk_dur=15s\n",
    "\n",
    "#CHECKPOINT = '/speech/dbwork/mul/spielwiese4/students/demancum/cocola/8jtiowyz/checkpoints/epoch=46-step=38963.ckpt' #jumping-breeze-27 bs=64 chunk_dur=20s\n",
    "\n",
    "#CHECKPOINT = '/speech/dbwork/mul/spielwiese3/demancum/cocola/e3xubuzt/checkpoints/epoch=38-step=245622.ckpt' #frosty-silence-39 musdb 32bs test\n",
    "CHECKPOINT = '/speech/dbwork/mul/spielwiese3/demancum/cocola_hpss/ciflwfwc/checkpoints/epoch=59-step=377880.ckpt' #astral-valley-21 more_negative_RAND_MASK_DOUBLE_CHANNEL\n",
    "\n",
    "model = CoCola.load_from_checkpoint(CHECKPOINT)\n",
    "trainer = Trainer()\n"
   ]
  },
  {
   "cell_type": "markdown",
   "metadata": {},
   "source": [
    "## Setting embedding mode for the tests (for DOUBLE_CHANNEL_HARMONIC_PERCUSSIVE models only)"
   ]
  },
  {
   "cell_type": "code",
   "execution_count": 28,
   "metadata": {},
   "outputs": [],
   "source": [
    "model.set_embedding_mode(constants.EmbeddingMode.BOTH) # constants.EmbeddingMode.PERCUSSIVE, constants.EmbeddingMode.BOTH or constants.EmbeddingMode.HARMONIC"
   ]
  },
  {
   "cell_type": "markdown",
   "metadata": {},
   "source": [
    "## MOISESDB"
   ]
  },
  {
   "cell_type": "code",
   "execution_count": 33,
   "metadata": {},
   "outputs": [
    {
     "name": "stderr",
     "output_type": "stream",
     "text": [
      "INFO:Found original dataset at /disk1/demancum/moisesdb_contrastive/moisesdb_v0.1.\n",
      "INFO:Found preprocessed dataset at /disk1/demancum/moisesdb_contrastive/preprocessed_hpss.\n"
     ]
    }
   ],
   "source": [
    "dataset = MoisesdbContrastivePreprocessed(\n",
    "    root_dir='/disk1/demancum/moisesdb_contrastive',\n",
    "    preprocess=False\n",
    ")\n",
    "\n",
    "_, _, test_dataset = random_split(\n",
    "    dataset=dataset, lengths=[0.8, 0.1, 0.1], generator=torch.Generator().manual_seed(42))\n",
    "\n",
    "test_dataloader = DataLoader(\n",
    "    test_dataset,\n",
    "    batch_size=64,\n",
    "    shuffle=False,\n",
    "    drop_last=True,\n",
    "    num_workers=os.cpu_count(),\n",
    "    persistent_workers=True\n",
    "    )\n"
   ]
  },
  {
   "cell_type": "code",
   "execution_count": 34,
   "metadata": {},
   "outputs": [
    {
     "name": "stderr",
     "output_type": "stream",
     "text": [
      "LOCAL_RANK: 0 - CUDA_VISIBLE_DEVICES: [0]\n"
     ]
    },
    {
     "name": "stdout",
     "output_type": "stream",
     "text": [
      "Testing DataLoader 0: 100%|██████████| 32/32 [00:01<00:00, 19.81it/s]\n"
     ]
    },
    {
     "data": {
      "text/html": [
       "<pre style=\"white-space:pre;overflow-x:auto;line-height:normal;font-family:Menlo,'DejaVu Sans Mono',consolas,'Courier New',monospace\">┏━━━━━━━━━━━━━━━━━━━━━━━━━━━┳━━━━━━━━━━━━━━━━━━━━━━━━━━━┓\n",
       "┃<span style=\"font-weight: bold\">        Test metric        </span>┃<span style=\"font-weight: bold\">       DataLoader 0        </span>┃\n",
       "┡━━━━━━━━━━━━━━━━━━━━━━━━━━━╇━━━━━━━━━━━━━━━━━━━━━━━━━━━┩\n",
       "│<span style=\"color: #008080; text-decoration-color: #008080\">       test_accuracy       </span>│<span style=\"color: #800080; text-decoration-color: #800080\">       0.5634765625        </span>│\n",
       "│<span style=\"color: #008080; text-decoration-color: #008080\">         test_loss         </span>│<span style=\"color: #800080; text-decoration-color: #800080\">    1.8591742515563965     </span>│\n",
       "└───────────────────────────┴───────────────────────────┘\n",
       "</pre>\n"
      ],
      "text/plain": [
       "┏━━━━━━━━━━━━━━━━━━━━━━━━━━━┳━━━━━━━━━━━━━━━━━━━━━━━━━━━┓\n",
       "┃\u001b[1m \u001b[0m\u001b[1m       Test metric       \u001b[0m\u001b[1m \u001b[0m┃\u001b[1m \u001b[0m\u001b[1m      DataLoader 0       \u001b[0m\u001b[1m \u001b[0m┃\n",
       "┡━━━━━━━━━━━━━━━━━━━━━━━━━━━╇━━━━━━━━━━━━━━━━━━━━━━━━━━━┩\n",
       "│\u001b[36m \u001b[0m\u001b[36m      test_accuracy      \u001b[0m\u001b[36m \u001b[0m│\u001b[35m \u001b[0m\u001b[35m      0.5634765625       \u001b[0m\u001b[35m \u001b[0m│\n",
       "│\u001b[36m \u001b[0m\u001b[36m        test_loss        \u001b[0m\u001b[36m \u001b[0m│\u001b[35m \u001b[0m\u001b[35m   1.8591742515563965    \u001b[0m\u001b[35m \u001b[0m│\n",
       "└───────────────────────────┴───────────────────────────┘\n"
      ]
     },
     "metadata": {},
     "output_type": "display_data"
    },
    {
     "data": {
      "text/plain": [
       "[{'test_loss': 1.8591742515563965, 'test_accuracy': 0.5634765625}]"
      ]
     },
     "execution_count": 34,
     "metadata": {},
     "output_type": "execute_result"
    }
   ],
   "source": [
    "trainer.test(model=model, dataloaders=test_dataloader)"
   ]
  },
  {
   "cell_type": "markdown",
   "metadata": {},
   "source": [
    "## Reults MOISESDB\n",
    "\n",
    "bumbling-breeze-34 bs=512 chunl_dur=2s test on moisesdb bs=512 [{'test_loss': 30.519054412841797, 'test_accuracy': 0.396484375}]\n",
    "\n",
    "bumbling-breeze-34 bs=512 chunl_dur=2s test on moisesdb bs=64 [{'test_loss': 29.30805206298828, 'test_accuracy': 0.5985725308641975}]\n",
    "\n",
    "bumbling-breeze-34 bs=512 chunl_dur=2s test on moisesdb bs=2 [{'test_loss': 25.239595413208008, 'test_accuracy': 0.8775077160493827}]\n",
    "\n",
    "---\n",
    "\n",
    "good-wave-24 bs=256 chunl_dur=5s, test on moisesdb bs=256 [{'test_loss': 2.751087188720703, 'test_accuracy': 0.41650390625}] \n",
    "\n",
    "good-wave-24 bs=256 chunl_dur=5s, test on moisesdb bs=64 [{'test_loss': 1.7366595268249512, 'test_accuracy': 0.5849609375}]\n",
    "\n",
    "good-wave-24 bs=256 chunl_dur=5s, test on moisesdb bs=2 [{'test_loss': 0.1633053719997406, 'test_accuracy': 0.9415148609779481}]\n",
    "\n",
    "---\n",
    "\n",
    "golden-dew-25 bs=128 chunk_dur=10s test on moisesdb bs=128 [{'test_loss': 14.337109565734863, 'test_accuracy': 0.35379464285714285}]\n",
    "\n",
    "golden-dew-25 bs=128 chunk_dur=10s test on moisesdb bs=64 [{'test_loss': 13.74421501159668, 'test_accuracy': 0.4654017857142857}]\n",
    "\n",
    "golden-dew-25 bs=128 chunk_dur=10s test on moisesdb bs=2 [{'test_loss': 10.538426399230957, 'test_accuracy': 0.8828451882845187}]\n",
    "\n",
    "---\n",
    "flowing-sound-26 bs=96 chunl_dur=15s test on moisesdb bs=96 [{'test_loss': 3.2646923065185547, 'test_accuracy': 0.24702380952380953}]\n",
    "\n",
    "flowing-sound-26 bs=96 chunl_dur=15s test on moisesdb bs=64 [{'test_loss': 2.8988101482391357, 'test_accuracy': 0.28267045454545453}]\n",
    "\n",
    "flowing-sound-26 bs=96 chunl_dur=15s test on moisesdb bs=2 [{'test_loss': 0.29432547092437744, 'test_accuracy': 0.8728813559322034}]\n",
    "\n",
    "---\n",
    "\n",
    "jumping-breeze-27 bs=64 chunl_dur=20s test on moisesdb bs=64 [{'test_loss': 3.286912441253662, 'test_accuracy': 0.38671875}]\n",
    "\n",
    "jumping-breeze-27 bs=64 chunl_dur=20s test on moisesdb bs=2 [{'test_loss': 0.5389121770858765, 'test_accuracy': 0.8936567164179104}]\n",
    "\n",
    "---\n",
    "\n",
    "frosty-silence-39 bs=32 chunk_dur=5s test on moisesdb bs=64 [{'test_loss': 1.6719969511032104, 'test_accuracy': 0.60546875}]\n",
    "\n",
    "frosty-silence-39 bs=32 chunk_dur=5s test on moisesdb bs=2  [{'test_loss': 0.17246873676776886, 'test_accuracy': 0.9419942473633748}]\n",
    "\n",
    "\n",
    "## Results MusDB HPSS\n",
    "astral-valley-21 bs=32 chunk_dur=5s test on moisesdb bs=64 [{'test_loss': 1.8591742515563965, 'test_accuracy': 0.5634765625}]\n",
    "\n",
    "astral-valley-21 bs=32 chunk_dur=5s test on moisesdb bs=2 [{'test_loss': 0.1839357316493988, 'test_accuracy': 0.9352828379674016}]\n",
    "\n",
    "\n"
   ]
  },
  {
   "cell_type": "markdown",
   "metadata": {},
   "source": [
    "## slakh2100"
   ]
  },
  {
   "cell_type": "code",
   "execution_count": 36,
   "metadata": {},
   "outputs": [
    {
     "name": "stderr",
     "output_type": "stream",
     "text": [
      "INFO:Found original dataset split test at /disk1/demancum/slakh2100_contrastive/original/slakh2100_redux_16k/test.\n",
      "INFO:Found preprocessed dataset split test at /disk1/demancum/slakh2100_contrastive/preprocessed_hpss/test.\n",
      "LOCAL_RANK: 0 - CUDA_VISIBLE_DEVICES: [0]\n"
     ]
    },
    {
     "name": "stdout",
     "output_type": "stream",
     "text": [
      "Testing DataLoader 0: 100%|██████████| 248/248 [00:12<00:00, 19.73it/s]\n"
     ]
    },
    {
     "data": {
      "text/html": [
       "<pre style=\"white-space:pre;overflow-x:auto;line-height:normal;font-family:Menlo,'DejaVu Sans Mono',consolas,'Courier New',monospace\">┏━━━━━━━━━━━━━━━━━━━━━━━━━━━┳━━━━━━━━━━━━━━━━━━━━━━━━━━━┓\n",
       "┃<span style=\"font-weight: bold\">        Test metric        </span>┃<span style=\"font-weight: bold\">       DataLoader 0        </span>┃\n",
       "┡━━━━━━━━━━━━━━━━━━━━━━━━━━━╇━━━━━━━━━━━━━━━━━━━━━━━━━━━┩\n",
       "│<span style=\"color: #008080; text-decoration-color: #008080\">       test_accuracy       </span>│<span style=\"color: #800080; text-decoration-color: #800080\">    0.6010584677419355     </span>│\n",
       "│<span style=\"color: #008080; text-decoration-color: #008080\">         test_loss         </span>│<span style=\"color: #800080; text-decoration-color: #800080\">    1.6199898719787598     </span>│\n",
       "└───────────────────────────┴───────────────────────────┘\n",
       "</pre>\n"
      ],
      "text/plain": [
       "┏━━━━━━━━━━━━━━━━━━━━━━━━━━━┳━━━━━━━━━━━━━━━━━━━━━━━━━━━┓\n",
       "┃\u001b[1m \u001b[0m\u001b[1m       Test metric       \u001b[0m\u001b[1m \u001b[0m┃\u001b[1m \u001b[0m\u001b[1m      DataLoader 0       \u001b[0m\u001b[1m \u001b[0m┃\n",
       "┡━━━━━━━━━━━━━━━━━━━━━━━━━━━╇━━━━━━━━━━━━━━━━━━━━━━━━━━━┩\n",
       "│\u001b[36m \u001b[0m\u001b[36m      test_accuracy      \u001b[0m\u001b[36m \u001b[0m│\u001b[35m \u001b[0m\u001b[35m   0.6010584677419355    \u001b[0m\u001b[35m \u001b[0m│\n",
       "│\u001b[36m \u001b[0m\u001b[36m        test_loss        \u001b[0m\u001b[36m \u001b[0m│\u001b[35m \u001b[0m\u001b[35m   1.6199898719787598    \u001b[0m\u001b[35m \u001b[0m│\n",
       "└───────────────────────────┴───────────────────────────┘\n"
      ]
     },
     "metadata": {},
     "output_type": "display_data"
    },
    {
     "data": {
      "text/plain": [
       "[{'test_loss': 1.6199898719787598, 'test_accuracy': 0.6010584677419355}]"
      ]
     },
     "execution_count": 36,
     "metadata": {},
     "output_type": "execute_result"
    }
   ],
   "source": [
    "test_dataset = Slakh2100ContrastivePreprocessed(\n",
    "    root_dir='/disk1/demancum/slakh2100_contrastive',\n",
    "    download=False,\n",
    "    preprocess=False,\n",
    "    split=\"test\")\n",
    "    \n",
    "\n",
    "test_dataloader = DataLoader(\n",
    "    test_dataset,\n",
    "    batch_size=64,\n",
    "    shuffle=False,\n",
    "    drop_last=True,\n",
    "    num_workers=os.cpu_count(),\n",
    "    persistent_workers=True\n",
    "    )\n",
    "\n",
    "trainer.test(model=model, dataloaders=test_dataloader)"
   ]
  },
  {
   "cell_type": "markdown",
   "metadata": {},
   "source": [
    "## Results slakh2100\n",
    "\n",
    "bumbling-breeze-34 bs=512 chunk_dur=2s test on slakh2100 bs=64 [{'test_loss': 2.6327898502349854, 'test_accuracy': 0.5836530694668821}]\n",
    "\n",
    "bumbling-breeze-34 bs=512 chunk_dur=2s test on slakh2100 bs=2 [{'test_loss': 1.0304263830184937, 'test_accuracy': 0.9223624432104998}]\n",
    "\n",
    "--- \n",
    "\n",
    "good-wave-24 bs=256 chunk_dur=5s test on slakh2100 bs=64 [{'test_loss': 2.032883405685425, 'test_accuracy': 0.5696194556451613}]\n",
    "\n",
    "good-wave-24 bs=256 chunk_dur=5s test on slakh2100 bs=2 [{'test_loss': 0.24336093664169312, 'test_accuracy': 0.9187012333249435}]\n",
    "\n",
    "---\n",
    "\n",
    "golden-dew-25 bs=128 chunk_dur=10s test on slakh2100 bs=64 [{'test_loss': 1.9303451776504517, 'test_accuracy': 0.5871975806451613}]\n",
    "\n",
    "golden-dew-25 bs=128 chunk_dur=10s test on slakh2100 bs=2 [{'test_loss': 0.18359966576099396, 'test_accuracy': 0.9335086401202103}]\n",
    "\n",
    "---\n",
    "\n",
    "flowing-sound-26 bs=96 chunk_dur=15s test on slakh2100 bs=64 [{'test_loss': 2.262129068374634, 'test_accuracy': 0.4759036144578313}]\n",
    "\n",
    "flowing-sound-26 bs=96 chunk_dur=15s test on slakh2100 bs=2 [{'test_loss': 0.1931096464395523, 'test_accuracy': 0.9245883233532934}]\n",
    "\n",
    "---\n",
    "frosty-silence-39 bs=32 chunk_dur=5s test on slakh2100 bs=64  [{'test_loss': 1.6478705406188965, 'test_accuracy': 0.612273185483871}]\n",
    "\n",
    "frosty-silence-39 bs=32 chunk_dur=5s test on slakh2100 bs=2  [{'test_loss': 0.15587395429611206, 'test_accuracy': 0.9336143971809716}]\n",
    "\n",
    "## Results slakh2100 HPSS\n",
    "astral-valley-21 bs=32 chunk_dur=5s test on moisesdb bs=64 [{'test_loss': 1.6199898719787598, 'test_accuracy': 0.6010584677419355}]\n",
    "\n",
    "astral-valley-21 bs=32 chunk_dur=5s test on moisesdb bs=2 [{'test_loss': 0.13791394233703613, 'test_accuracy': 0.9413541404480242}]\n",
    "\n"
   ]
  },
  {
   "cell_type": "markdown",
   "metadata": {},
   "source": [
    "## COCOCHORALES"
   ]
  },
  {
   "cell_type": "code",
   "execution_count": 39,
   "metadata": {},
   "outputs": [
    {
     "name": "stderr",
     "output_type": "stream",
     "text": [
      "INFO:Found original dataset split test at /disk1/demancum/coco_chorales_contrastive/original/test.\n",
      "INFO:Found preprocessed dataset split test at /disk1/demancum/coco_chorales_contrastive/preprocessed_hpss/test.\n"
     ]
    }
   ],
   "source": [
    "test_dataset = CocoChoralesContrastivePreprocessed(\n",
    "    root_dir='/disk1/demancum/coco_chorales_contrastive',\n",
    "    download=False,\n",
    "    preprocess=False,\n",
    "    split=\"test\",\n",
    "    ensemble=\"*\")\n",
    "    \n",
    "test_dataloader = DataLoader(\n",
    "    test_dataset,\n",
    "    batch_size=64,\n",
    "    shuffle=False,\n",
    "    drop_last=True,\n",
    "    num_workers=os.cpu_count(),\n",
    "    persistent_workers=True\n",
    "    )\n"
   ]
  },
  {
   "cell_type": "code",
   "execution_count": 40,
   "metadata": {},
   "outputs": [
    {
     "name": "stderr",
     "output_type": "stream",
     "text": [
      "LOCAL_RANK: 0 - CUDA_VISIBLE_DEVICES: [0]\n"
     ]
    },
    {
     "name": "stdout",
     "output_type": "stream",
     "text": [
      "Testing DataLoader 0: 100%|██████████| 291/291 [00:14<00:00, 20.17it/s]\n"
     ]
    },
    {
     "data": {
      "text/html": [
       "<pre style=\"white-space:pre;overflow-x:auto;line-height:normal;font-family:Menlo,'DejaVu Sans Mono',consolas,'Courier New',monospace\">┏━━━━━━━━━━━━━━━━━━━━━━━━━━━┳━━━━━━━━━━━━━━━━━━━━━━━━━━━┓\n",
       "┃<span style=\"font-weight: bold\">        Test metric        </span>┃<span style=\"font-weight: bold\">       DataLoader 0        </span>┃\n",
       "┡━━━━━━━━━━━━━━━━━━━━━━━━━━━╇━━━━━━━━━━━━━━━━━━━━━━━━━━━┩\n",
       "│<span style=\"color: #008080; text-decoration-color: #008080\">       test_accuracy       </span>│<span style=\"color: #800080; text-decoration-color: #800080\">    0.9272981099656358     </span>│\n",
       "│<span style=\"color: #008080; text-decoration-color: #008080\">         test_loss         </span>│<span style=\"color: #800080; text-decoration-color: #800080\">    0.22545965015888214    </span>│\n",
       "└───────────────────────────┴───────────────────────────┘\n",
       "</pre>\n"
      ],
      "text/plain": [
       "┏━━━━━━━━━━━━━━━━━━━━━━━━━━━┳━━━━━━━━━━━━━━━━━━━━━━━━━━━┓\n",
       "┃\u001b[1m \u001b[0m\u001b[1m       Test metric       \u001b[0m\u001b[1m \u001b[0m┃\u001b[1m \u001b[0m\u001b[1m      DataLoader 0       \u001b[0m\u001b[1m \u001b[0m┃\n",
       "┡━━━━━━━━━━━━━━━━━━━━━━━━━━━╇━━━━━━━━━━━━━━━━━━━━━━━━━━━┩\n",
       "│\u001b[36m \u001b[0m\u001b[36m      test_accuracy      \u001b[0m\u001b[36m \u001b[0m│\u001b[35m \u001b[0m\u001b[35m   0.9272981099656358    \u001b[0m\u001b[35m \u001b[0m│\n",
       "│\u001b[36m \u001b[0m\u001b[36m        test_loss        \u001b[0m\u001b[36m \u001b[0m│\u001b[35m \u001b[0m\u001b[35m   0.22545965015888214   \u001b[0m\u001b[35m \u001b[0m│\n",
       "└───────────────────────────┴───────────────────────────┘\n"
      ]
     },
     "metadata": {},
     "output_type": "display_data"
    },
    {
     "data": {
      "text/plain": [
       "[{'test_loss': 0.22545965015888214, 'test_accuracy': 0.9272981099656358}]"
      ]
     },
     "execution_count": 40,
     "metadata": {},
     "output_type": "execute_result"
    }
   ],
   "source": [
    "trainer.test(model=model, dataloaders=test_dataloader)"
   ]
  },
  {
   "cell_type": "markdown",
   "metadata": {},
   "source": [
    "## Results COCOCHORALES\n",
    "\n",
    "bumbling-breeze-34 bs=512 chunk_dur=2s test on COCOCHORALES bs=64 [{'test_loss': 3.28816819190979, 'test_accuracy': 0.9072003182461104}]\n",
    "\n",
    "bumbling-breeze-34 bs=512 chunk_dur=2s test on COCOCHORALES bs=2 [{'test_loss': 2.5330116748809814, 'test_accuracy': 0.9808440123729563}]\n",
    "\n",
    "---\n",
    "\n",
    "good-wave-24 bs=256 chunk_dur=5s test on COCOCHORALES bs=64 [{'test_loss': 0.24012035131454468, 'test_accuracy': 0.9311640893470791}]\n",
    "\n",
    "good-wave-24 bs=256 chunk_dur=5s test on COCOCHORALES bs=2 [{'test_loss': 0.011269009672105312, 'test_accuracy': 0.997055043906618}]\n",
    "\n",
    "---\n",
    "\n",
    "golden-dew-25 bs=128 chunk_dur=10s test on COCOCHORALES bs=64 [{'test_loss': 1.371890902519226, 'test_accuracy': 0.9197303921568627}]\n",
    "\n",
    "golden-dew-25 bs=128 chunk_dur=10s test on COCOCHORALES bs=2 [{'test_loss': 0.5721641182899475, 'test_accuracy': 0.9725274725274725}]\n",
    "\n",
    "---\n",
    "flowing-sound-26 bs=96 chunk_dur=15s test on COCOCHORALES bs=64 [{'test_loss': 0.1298881322145462, 'test_accuracy': 0.9505208333333334}]\n",
    "\n",
    "flowing-sound-26 bs=96 chunk_dur=15s test on COCOCHORALES bs=2 [{'test_loss': 0.0018012290820479393, 'test_accuracy': 0.9992791234140715}]\n",
    "\n",
    "---\n",
    "frosty-silence-39 bs=32 chunk_dur=5s test on COCOCHORALES bs=64 [{'test_loss': 0.2683464288711548, 'test_accuracy': 0.9119415807560137}]\n",
    "\n",
    "frosty-silence-39 bs=32 chunk_dur=5s test on COCOCHORALES bs=2 [{'test_loss': 0.010394576005637646, 'test_accuracy': 0.9968408652816448}]\n",
    "\n",
    "\n",
    "## Results COCOCHORALES HPSS\n",
    "astral-valley-21 bs=32 chunk_dur=5s test on COCOCHORALES bs=64 [{'test_loss': 0.22545965015888214, 'test_accuracy': 0.9272981099656358}]\n",
    "\n",
    "astral-valley-21 bs=32 chunk_dur=5s test on COCOCHORALES bs=2 [{'test_loss': 0.0063800569623708725, 'test_accuracy': 0.9976440351252944}]\n",
    "\n"
   ]
  },
  {
   "cell_type": "markdown",
   "metadata": {},
   "source": [
    "## MusDB\n"
   ]
  },
  {
   "cell_type": "code",
   "execution_count": 30,
   "metadata": {},
   "outputs": [
    {
     "name": "stderr",
     "output_type": "stream",
     "text": [
      "INFO:Found original dataset split train at /disk1/demancum/musdb_contrastive/original/train.\n",
      "INFO:Found preprocessed dataset split train at /disk1/demancum/musdb_contrastive/preprocessed_hpss/train.\n",
      "LOCAL_RANK: 0 - CUDA_VISIBLE_DEVICES: [0]\n"
     ]
    },
    {
     "name": "stdout",
     "output_type": "stream",
     "text": [
      "Testing DataLoader 0: 100%|██████████| 144/144 [00:07<00:00, 19.34it/s]\n"
     ]
    },
    {
     "data": {
      "text/html": [
       "<pre style=\"white-space:pre;overflow-x:auto;line-height:normal;font-family:Menlo,'DejaVu Sans Mono',consolas,'Courier New',monospace\">┏━━━━━━━━━━━━━━━━━━━━━━━━━━━┳━━━━━━━━━━━━━━━━━━━━━━━━━━━┓\n",
       "┃<span style=\"font-weight: bold\">        Test metric        </span>┃<span style=\"font-weight: bold\">       DataLoader 0        </span>┃\n",
       "┡━━━━━━━━━━━━━━━━━━━━━━━━━━━╇━━━━━━━━━━━━━━━━━━━━━━━━━━━┩\n",
       "│<span style=\"color: #008080; text-decoration-color: #008080\">       test_accuracy       </span>│<span style=\"color: #800080; text-decoration-color: #800080\">    0.5638020833333333     </span>│\n",
       "│<span style=\"color: #008080; text-decoration-color: #008080\">         test_loss         </span>│<span style=\"color: #800080; text-decoration-color: #800080\">    1.8711408376693726     </span>│\n",
       "└───────────────────────────┴───────────────────────────┘\n",
       "</pre>\n"
      ],
      "text/plain": [
       "┏━━━━━━━━━━━━━━━━━━━━━━━━━━━┳━━━━━━━━━━━━━━━━━━━━━━━━━━━┓\n",
       "┃\u001b[1m \u001b[0m\u001b[1m       Test metric       \u001b[0m\u001b[1m \u001b[0m┃\u001b[1m \u001b[0m\u001b[1m      DataLoader 0       \u001b[0m\u001b[1m \u001b[0m┃\n",
       "┡━━━━━━━━━━━━━━━━━━━━━━━━━━━╇━━━━━━━━━━━━━━━━━━━━━━━━━━━┩\n",
       "│\u001b[36m \u001b[0m\u001b[36m      test_accuracy      \u001b[0m\u001b[36m \u001b[0m│\u001b[35m \u001b[0m\u001b[35m   0.5638020833333333    \u001b[0m\u001b[35m \u001b[0m│\n",
       "│\u001b[36m \u001b[0m\u001b[36m        test_loss        \u001b[0m\u001b[36m \u001b[0m│\u001b[35m \u001b[0m\u001b[35m   1.8711408376693726    \u001b[0m\u001b[35m \u001b[0m│\n",
       "└───────────────────────────┴───────────────────────────┘\n"
      ]
     },
     "metadata": {},
     "output_type": "display_data"
    },
    {
     "data": {
      "text/plain": [
       "[{'test_loss': 1.8711408376693726, 'test_accuracy': 0.5638020833333333}]"
      ]
     },
     "execution_count": 30,
     "metadata": {},
     "output_type": "execute_result"
    }
   ],
   "source": [
    "from contrastive_model.contrastive_model_data import hpss\n",
    "\n",
    "# Using train split since it is not used from training\n",
    "test_dataset = MusdbContrastivePreprocessed(\n",
    "    root_dir='/disk1/demancum/musdb_contrastive',\n",
    "    download=False,\n",
    "    preprocess=True, # Need to preprocess now because it is not used at training time\n",
    "    split=\"train\",\n",
    "    chunk_duration=5,\n",
    "    target_sample_rate=16000,\n",
    "    generate_submixtures=True,\n",
    "    device=\"cuda\",\n",
    "    transform=hpss\n",
    ")\n",
    "\n",
    "test_dataloader = DataLoader(\n",
    "    test_dataset,\n",
    "    batch_size=64,\n",
    "    shuffle=False,\n",
    "    drop_last=True,\n",
    "    num_workers=os.cpu_count(),\n",
    "    persistent_workers=True\n",
    "    )\n",
    "\n",
    "trainer.test(model=model, dataloaders=test_dataloader)\n",
    "\n"
   ]
  },
  {
   "cell_type": "markdown",
   "metadata": {},
   "source": [
    "## Results MusDB\n",
    "\n",
    "bumbling-breeze-34 bs=512 chunk_dur=2s test on MusDB bs=64 [{'test_loss': 17.289331436157227, 'test_accuracy': 0.4112255586592179}]\n",
    "\n",
    "bumbling-breeze-34 bs=512 chunk_dur=2s test on MusDB bs=2 [{'test_loss': 13.33316707611084, 'test_accuracy': 0.8486590038314177}]\n",
    "\n",
    "---\n",
    "\n",
    "good-wave-24 bs=256 chunk_dur=5s test on MusDB bs=64 [{'test_loss': 4.149162769317627, 'test_accuracy': 0.3428819444444444}]\n",
    "\n",
    "good-wave-24 bs=256 chunk_dur=5s test on MusDB bs=2 [{'test_loss': 0.6049458980560303, 'test_accuracy': 0.8654470664646027}]\n",
    "\n",
    "---\n",
    "\n",
    "golden-dew-25 bs=128 chunk_dur=10s test on MusDB bs=64 [{'test_loss': 12.250128746032715, 'test_accuracy': 0.296875}]\n",
    "\n",
    "\n",
    "golden-dew-25 bs=128 chunk_dur=10s test on MusDB bs=2 [{'test_loss': 6.9717888832092285, 'test_accuracy': 0.8437097466723916}]\n",
    "\n",
    "---\n",
    "\n",
    "flowing-sound-26 bs=96 chunk_dur=15s test on MusDB bs=64 [{'test_loss': 4.6844329833984375, 'test_accuracy': 0.2688802083333333}]\n",
    "\n",
    "flowing-sound-26 bs=96 chunk_dur=15s test on MusDB bs=2 [{'test_loss': 0.8233780264854431, 'test_accuracy': 0.7988505747126438}]\n",
    "\n",
    "---\n",
    "\n",
    "frosty-silence-39 bs=32 chunk_dur=5s test on MusDB bs=64 [{'test_loss': 2.596252202987671, 'test_accuracy': 0.5073784722222222}]\n",
    "\n",
    "frosty-silence-39 bs=32 chunk_dur=5s test on MusDB bs=2 [{'test_loss': 0.30304449796676636, 'test_accuracy': 0.9180558562459407}]\n",
    "\n",
    "## Results MusDB HPSS\n",
    "astral-valley-21 bs=32 chunk_dur=5s test on MusDB bs=64 [{'test_loss': 1.8711408376693726, 'test_accuracy': 0.5638020833333333}]\n",
    "astral-valley-21 bs=32 chunk_dur=5s test on MusDB bs=2 [{'test_loss': 0.19757261872291565, 'test_accuracy': 0.9332106516562026}]\n"
   ]
  },
  {
   "cell_type": "markdown",
   "metadata": {},
   "source": []
  }
 ],
 "metadata": {
  "kernelspec": {
   "display_name": "cocola",
   "language": "python",
   "name": "python3"
  },
  "language_info": {
   "codemirror_mode": {
    "name": "ipython",
    "version": 3
   },
   "file_extension": ".py",
   "mimetype": "text/x-python",
   "name": "python",
   "nbconvert_exporter": "python",
   "pygments_lexer": "ipython3",
   "version": "3.11.9"
  }
 },
 "nbformat": 4,
 "nbformat_minor": 2
}
