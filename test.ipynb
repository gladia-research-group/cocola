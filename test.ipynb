{
 "cells": [
  {
   "cell_type": "code",
   "execution_count": 1,
   "metadata": {},
   "outputs": [],
   "source": [
    "import numpy as np"
   ]
  },
  {
   "cell_type": "code",
   "execution_count": 2,
   "metadata": {},
   "outputs": [
    {
     "name": "stderr",
     "output_type": "stream",
     "text": [
      "/home/demancum/miniconda3/envs/cocola/lib/python3.11/site-packages/tqdm/auto.py:21: TqdmWarning: IProgress not found. Please update jupyter and ipywidgets. See https://ipywidgets.readthedocs.io/en/stable/user_install.html\n",
      "  from .autonotebook import tqdm as notebook_tqdm\n"
     ]
    }
   ],
   "source": [
    "import os\n",
    "import torch\n",
    "from torch.utils.data import DataLoader, random_split\n",
    "from lightning.pytorch import Trainer"
   ]
  },
  {
   "cell_type": "code",
   "execution_count": 3,
   "metadata": {},
   "outputs": [],
   "source": [
    "os.environ['CUDA_VISIBLE_DEVICES'] = '0'  "
   ]
  },
  {
   "cell_type": "code",
   "execution_count": 4,
   "metadata": {},
   "outputs": [],
   "source": [
    "from contrastive_model.contrastive_model import CoCola\n",
    "from data import (\n",
    "musdb_contrastive_preprocessed,\n",
    "moisesdb_contrastive_preprocessed,\n",
    "slakh2100_contrastive_preprocessed,\n",
    "coco_chorales_contrastive_preprocessed\n",
    ")\n"
   ]
  },
  {
   "cell_type": "code",
   "execution_count": 5,
   "metadata": {},
   "outputs": [
    {
     "name": "stderr",
     "output_type": "stream",
     "text": [
      "/home/demancum/miniconda3/envs/cocola/lib/python3.11/site-packages/lightning/fabric/plugins/environments/slurm.py:204: The `srun` command is available on your system but is not used. HINT: If your intention is to run Lightning on SLURM, prepend your python command with `srun` like so: srun python /home/demancum/miniconda3/envs/cocola/lib/python3.11 ...\n",
      "GPU available: True (cuda), used: True\n",
      "TPU available: False, using: 0 TPU cores\n",
      "IPU available: False, using: 0 IPUs\n",
      "HPU available: False, using: 0 HPUs\n"
     ]
    }
   ],
   "source": [
    "#CHECKPOINT = '/speech/dbwork/mul/spielwiese4/students/demancum/cocola/k5llcdm8/checkpoints/epoch=21-step=21406.ckpt' #bumbling-breeze-34 bs=512 chunk_dur=2s\n",
    "#CHECKPOINT = '/speech/dbwork/mul/spielwiese4/students/demancum/cocola/r71kxj7r/checkpoints/epoch=36-step=29119.ckpt' #good-wave-24 bs=256 chunk_dur=5s\n",
    "#CHECKPOINT = '/speech/dbwork/mul/spielwiese4/students/demancum/cocola/shov44gs/checkpoints/epoch=24-step=19900.ckpt' #golden-dew-25 bs=128 chunk_dur=10s\n",
    "\n",
    "#CHECKPOINT = '/speech/dbwork/mul/spielwiese4/students/demancum/cocola/zr304efn/checkpoints/epoch=23-step=17448.ckpt' #flowing-sound-26 bs=96 chunk_dur=15s\n",
    "\n",
    "#CHECKPOINT = '/speech/dbwork/mul/spielwiese4/students/demancum/cocola/8jtiowyz/checkpoints/epoch=46-step=38963.ckpt' #jumping-breeze-27 bs=64 chunk_dur=20s\n",
    "\n",
    "CHECKPOINT = '/speech/dbwork/mul/spielwiese3/demancum/cocola/e3xubuzt/checkpoints/epoch=38-step=245622.ckpt' #frosty-silence-39 musdb 32bs test\n",
    "\n",
    "\n",
    "model = CoCola.load_from_checkpoint(CHECKPOINT)\n",
    "trainer = Trainer()\n"
   ]
  },
  {
   "cell_type": "markdown",
   "metadata": {},
   "source": [
    "## MOISESDB"
   ]
  },
  {
   "cell_type": "code",
   "execution_count": 18,
   "metadata": {},
   "outputs": [
    {
     "name": "stderr",
     "output_type": "stream",
     "text": [
      "INFO:Found original dataset at /disk1/demancum/moisesdb/moisesdb_v0.1.\n",
      "INFO:Found preprocessed dataset at /disk1/demancum/moisesdb/preprocessed5.\n"
     ]
    }
   ],
   "source": [
    "dataset = moisesdb_contrastive_preprocessed.get_dataset(\n",
    "    chunk_duration=5,\n",
    "    positive_noise=0,\n",
    "    generate_submixtures=True,\n",
    "    transform=None\n",
    "    )\n",
    "\n",
    "_, _, test_dataset = random_split(\n",
    "    dataset=dataset,\n",
    "    lengths=[0.8, 0.1, 0.1],\n",
    "    generator=torch.Generator().manual_seed(42)\n",
    "    )\n",
    "\n",
    "test_dataloader = DataLoader(\n",
    "    test_dataset,\n",
    "    batch_size=2,\n",
    "    shuffle=False,\n",
    "    drop_last=True,\n",
    "    num_workers=os.cpu_count(),\n",
    "    persistent_workers=True\n",
    "    )\n"
   ]
  },
  {
   "cell_type": "code",
   "execution_count": 19,
   "metadata": {},
   "outputs": [
    {
     "name": "stderr",
     "output_type": "stream",
     "text": [
      "LOCAL_RANK: 0 - CUDA_VISIBLE_DEVICES: [0]\n"
     ]
    },
    {
     "name": "stdout",
     "output_type": "stream",
     "text": [
      "Testing DataLoader 0: 100%|██████████| 1043/1043 [00:14<00:00, 72.16it/s]\n"
     ]
    },
    {
     "data": {
      "text/html": [
       "<pre style=\"white-space:pre;overflow-x:auto;line-height:normal;font-family:Menlo,'DejaVu Sans Mono',consolas,'Courier New',monospace\">┏━━━━━━━━━━━━━━━━━━━━━━━━━━━┳━━━━━━━━━━━━━━━━━━━━━━━━━━━┓\n",
       "┃<span style=\"font-weight: bold\">        Test metric        </span>┃<span style=\"font-weight: bold\">       DataLoader 0        </span>┃\n",
       "┡━━━━━━━━━━━━━━━━━━━━━━━━━━━╇━━━━━━━━━━━━━━━━━━━━━━━━━━━┩\n",
       "│<span style=\"color: #008080; text-decoration-color: #008080\">       test_accuracy       </span>│<span style=\"color: #800080; text-decoration-color: #800080\">    0.9419942473633748     </span>│\n",
       "│<span style=\"color: #008080; text-decoration-color: #008080\">         test_loss         </span>│<span style=\"color: #800080; text-decoration-color: #800080\">    0.17246873676776886    </span>│\n",
       "└───────────────────────────┴───────────────────────────┘\n",
       "</pre>\n"
      ],
      "text/plain": [
       "┏━━━━━━━━━━━━━━━━━━━━━━━━━━━┳━━━━━━━━━━━━━━━━━━━━━━━━━━━┓\n",
       "┃\u001b[1m \u001b[0m\u001b[1m       Test metric       \u001b[0m\u001b[1m \u001b[0m┃\u001b[1m \u001b[0m\u001b[1m      DataLoader 0       \u001b[0m\u001b[1m \u001b[0m┃\n",
       "┡━━━━━━━━━━━━━━━━━━━━━━━━━━━╇━━━━━━━━━━━━━━━━━━━━━━━━━━━┩\n",
       "│\u001b[36m \u001b[0m\u001b[36m      test_accuracy      \u001b[0m\u001b[36m \u001b[0m│\u001b[35m \u001b[0m\u001b[35m   0.9419942473633748    \u001b[0m\u001b[35m \u001b[0m│\n",
       "│\u001b[36m \u001b[0m\u001b[36m        test_loss        \u001b[0m\u001b[36m \u001b[0m│\u001b[35m \u001b[0m\u001b[35m   0.17246873676776886   \u001b[0m\u001b[35m \u001b[0m│\n",
       "└───────────────────────────┴───────────────────────────┘\n"
      ]
     },
     "metadata": {},
     "output_type": "display_data"
    },
    {
     "data": {
      "text/plain": [
       "[{'test_loss': 0.17246873676776886, 'test_accuracy': 0.9419942473633748}]"
      ]
     },
     "execution_count": 19,
     "metadata": {},
     "output_type": "execute_result"
    }
   ],
   "source": [
    "trainer.test(model=model, dataloaders=test_dataloader)\n"
   ]
  },
  {
   "cell_type": "markdown",
   "metadata": {},
   "source": [
    "## Reults MOISESDB\n",
    "\n",
    "bumbling-breeze-34 bs=512 chunl_dur=2s test on moisesdb bs=512 [{'test_loss': 30.519054412841797, 'test_accuracy': 0.396484375}]\n",
    "\n",
    "bumbling-breeze-34 bs=512 chunl_dur=2s test on moisesdb bs=64 [{'test_loss': 29.30805206298828, 'test_accuracy': 0.5985725308641975}]\n",
    "\n",
    "bumbling-breeze-34 bs=512 chunl_dur=2s test on moisesdb bs=2 [{'test_loss': 25.239595413208008, 'test_accuracy': 0.8775077160493827}]\n",
    "\n",
    "---\n",
    "\n",
    "good-wave-24 bs=256 chunl_dur=5s, test on moisesdb bs=256 [{'test_loss': 2.751087188720703, 'test_accuracy': 0.41650390625}] \n",
    "\n",
    "good-wave-24 bs=256 chunl_dur=5s, test on moisesdb bs=64 [{'test_loss': 1.7366595268249512, 'test_accuracy': 0.5849609375}]\n",
    "\n",
    "good-wave-24 bs=256 chunl_dur=5s, test on moisesdb bs=2 [{'test_loss': 0.1633053719997406, 'test_accuracy': 0.9415148609779481}]\n",
    "\n",
    "---\n",
    "\n",
    "golden-dew-25 bs=128 chunk_dur=10s test on moisesdb bs=128 [{'test_loss': 14.337109565734863, 'test_accuracy': 0.35379464285714285}]\n",
    "\n",
    "golden-dew-25 bs=128 chunk_dur=10s test on moisesdb bs=64 [{'test_loss': 13.74421501159668, 'test_accuracy': 0.4654017857142857}]\n",
    "\n",
    "golden-dew-25 bs=128 chunk_dur=10s test on moisesdb bs=2 [{'test_loss': 10.538426399230957, 'test_accuracy': 0.8828451882845187}]\n",
    "\n",
    "---\n",
    "flowing-sound-26 bs=96 chunl_dur=15s test on moisesdb bs=96 [{'test_loss': 3.2646923065185547, 'test_accuracy': 0.24702380952380953}]\n",
    "\n",
    "flowing-sound-26 bs=96 chunl_dur=15s test on moisesdb bs=64 [{'test_loss': 2.8988101482391357, 'test_accuracy': 0.28267045454545453}]\n",
    "\n",
    "flowing-sound-26 bs=96 chunl_dur=15s test on moisesdb bs=2 [{'test_loss': 0.29432547092437744, 'test_accuracy': 0.8728813559322034}]\n",
    "\n",
    "---\n",
    "\n",
    "jumping-breeze-27 bs=64 chunl_dur=20s test on moisesdb bs=64 [{'test_loss': 3.286912441253662, 'test_accuracy': 0.38671875}]\n",
    "\n",
    "jumping-breeze-27 bs=64 chunl_dur=20s test on moisesdb bs=2 [{'test_loss': 0.5389121770858765, 'test_accuracy': 0.8936567164179104}]\n",
    "\n",
    "---\n",
    "\n",
    "frosty-silence-39 bs=32 chunk_dur=5s test on moisesdb bs=64 [{'test_loss': 1.6719969511032104, 'test_accuracy': 0.60546875}]\n",
    "\n",
    "frosty-silence-39 bs=32 chunk_dur=5s test on moisesdb bs=2  [{'test_loss': 0.17246873676776886, 'test_accuracy': 0.9419942473633748}]\n",
    "\n"
   ]
  },
  {
   "cell_type": "markdown",
   "metadata": {},
   "source": [
    "## slakh2100"
   ]
  },
  {
   "cell_type": "code",
   "execution_count": 13,
   "metadata": {},
   "outputs": [
    {
     "name": "stderr",
     "output_type": "stream",
     "text": [
      "INFO:Found original dataset split test at /disk1/demancum/slakh2100_contrastive/original/slakh2100_redux_16k/test.\n",
      "INFO:Found preprocessed dataset split test at /disk1/demancum/slakh2100_contrastive/preprocessed5/test.\n",
      "LOCAL_RANK: 0 - CUDA_VISIBLE_DEVICES: [0]\n"
     ]
    },
    {
     "name": "stdout",
     "output_type": "stream",
     "text": [
      "Testing DataLoader 0: 100%|██████████| 7946/7946 [01:52<00:00, 70.93it/s]\n"
     ]
    },
    {
     "data": {
      "text/html": [
       "<pre style=\"white-space:pre;overflow-x:auto;line-height:normal;font-family:Menlo,'DejaVu Sans Mono',consolas,'Courier New',monospace\">┏━━━━━━━━━━━━━━━━━━━━━━━━━━━┳━━━━━━━━━━━━━━━━━━━━━━━━━━━┓\n",
       "┃<span style=\"font-weight: bold\">        Test metric        </span>┃<span style=\"font-weight: bold\">       DataLoader 0        </span>┃\n",
       "┡━━━━━━━━━━━━━━━━━━━━━━━━━━━╇━━━━━━━━━━━━━━━━━━━━━━━━━━━┩\n",
       "│<span style=\"color: #008080; text-decoration-color: #008080\">       test_accuracy       </span>│<span style=\"color: #800080; text-decoration-color: #800080\">    0.9336143971809716     </span>│\n",
       "│<span style=\"color: #008080; text-decoration-color: #008080\">         test_loss         </span>│<span style=\"color: #800080; text-decoration-color: #800080\">    0.15587395429611206    </span>│\n",
       "└───────────────────────────┴───────────────────────────┘\n",
       "</pre>\n"
      ],
      "text/plain": [
       "┏━━━━━━━━━━━━━━━━━━━━━━━━━━━┳━━━━━━━━━━━━━━━━━━━━━━━━━━━┓\n",
       "┃\u001b[1m \u001b[0m\u001b[1m       Test metric       \u001b[0m\u001b[1m \u001b[0m┃\u001b[1m \u001b[0m\u001b[1m      DataLoader 0       \u001b[0m\u001b[1m \u001b[0m┃\n",
       "┡━━━━━━━━━━━━━━━━━━━━━━━━━━━╇━━━━━━━━━━━━━━━━━━━━━━━━━━━┩\n",
       "│\u001b[36m \u001b[0m\u001b[36m      test_accuracy      \u001b[0m\u001b[36m \u001b[0m│\u001b[35m \u001b[0m\u001b[35m   0.9336143971809716    \u001b[0m\u001b[35m \u001b[0m│\n",
       "│\u001b[36m \u001b[0m\u001b[36m        test_loss        \u001b[0m\u001b[36m \u001b[0m│\u001b[35m \u001b[0m\u001b[35m   0.15587395429611206   \u001b[0m\u001b[35m \u001b[0m│\n",
       "└───────────────────────────┴───────────────────────────┘\n"
      ]
     },
     "metadata": {},
     "output_type": "display_data"
    },
    {
     "data": {
      "text/plain": [
       "[{'test_loss': 0.15587395429611206, 'test_accuracy': 0.9336143971809716}]"
      ]
     },
     "execution_count": 13,
     "metadata": {},
     "output_type": "execute_result"
    }
   ],
   "source": [
    "test_dataset = slakh2100_contrastive_preprocessed.get_dataset(\n",
    "    split=\"test\",\n",
    "    chunk_duration=5,\n",
    "    positive_noise=0,\n",
    "    generate_submixtures=True,\n",
    "    transform=None\n",
    "    )\n",
    "\n",
    "test_dataloader = DataLoader(\n",
    "    test_dataset,\n",
    "    batch_size=2,\n",
    "    shuffle=False,\n",
    "    drop_last=True,\n",
    "    num_workers=os.cpu_count(),\n",
    "    persistent_workers=True\n",
    "    )\n",
    "\n",
    "trainer.test(model=model, dataloaders=test_dataloader)"
   ]
  },
  {
   "cell_type": "markdown",
   "metadata": {},
   "source": [
    "## Results slakh2100\n",
    "\n",
    "bumbling-breeze-34 bs=512 chunk_dur=2s test on slakh2100 bs=64 [{'test_loss': 2.6327898502349854, 'test_accuracy': 0.5836530694668821}]\n",
    "\n",
    "bumbling-breeze-34 bs=512 chunk_dur=2s test on slakh2100 bs=2 [{'test_loss': 1.0304263830184937, 'test_accuracy': 0.9223624432104998}]\n",
    "\n",
    "--- \n",
    "\n",
    "good-wave-24 bs=256 chunk_dur=5s test on slakh2100 bs=64 [{'test_loss': 2.032883405685425, 'test_accuracy': 0.5696194556451613}]\n",
    "\n",
    "good-wave-24 bs=256 chunk_dur=5s test on slakh2100 bs=2 [{'test_loss': 0.24336093664169312, 'test_accuracy': 0.9187012333249435}]\n",
    "\n",
    "---\n",
    "\n",
    "golden-dew-25 bs=128 chunk_dur=10s test on slakh2100 bs=64 [{'test_loss': 1.9303451776504517, 'test_accuracy': 0.5871975806451613}]\n",
    "\n",
    "golden-dew-25 bs=128 chunk_dur=10s test on slakh2100 bs=2 [{'test_loss': 0.18359966576099396, 'test_accuracy': 0.9335086401202103}]\n",
    "\n",
    "---\n",
    "\n",
    "flowing-sound-26 bs=96 chunk_dur=15s test on slakh2100 bs=64 [{'test_loss': 2.262129068374634, 'test_accuracy': 0.4759036144578313}]\n",
    "\n",
    "flowing-sound-26 bs=96 chunk_dur=15s test on slakh2100 bs=2 [{'test_loss': 0.1931096464395523, 'test_accuracy': 0.9245883233532934}]\n",
    "\n",
    "---\n",
    "frosty-silence-39 bs=32 chunk_dur=5s test on slakh2100 bs=64  [{'test_loss': 1.6478705406188965, 'test_accuracy': 0.612273185483871}]\n",
    "\n",
    "frosty-silence-39 bs=32 chunk_dur=5s test on slakh2100 bs=2  [{'test_loss': 0.15587395429611206, 'test_accuracy': 0.9336143971809716}]\n"
   ]
  },
  {
   "cell_type": "markdown",
   "metadata": {},
   "source": [
    "## COCOCHORALES"
   ]
  },
  {
   "cell_type": "code",
   "execution_count": 10,
   "metadata": {},
   "outputs": [
    {
     "name": "stderr",
     "output_type": "stream",
     "text": [
      "INFO:Found original dataset split test at /disk1/demancum/coco_chorales_contrastive/original/test.\n",
      "INFO:Found preprocessed dataset split test at /disk1/demancum/coco_chorales_contrastive/preprocessed5/test.\n"
     ]
    }
   ],
   "source": [
    "test_dataset = coco_chorales_contrastive_preprocessed.get_dataset(\n",
    "    split=\"test\",\n",
    "    ensemble=\"*\",\n",
    "    chunk_duration=5,\n",
    "    positive_noise=0,\n",
    "    generate_submixtures=True,\n",
    "    transform=None\n",
    "    )\n",
    "    \n",
    "test_dataloader = DataLoader(\n",
    "    test_dataset,\n",
    "    batch_size=64,\n",
    "    shuffle=False,\n",
    "    drop_last=True,\n",
    "    num_workers=os.cpu_count(),\n",
    "    persistent_workers=True\n",
    "    )\n"
   ]
  },
  {
   "cell_type": "code",
   "execution_count": 11,
   "metadata": {},
   "outputs": [
    {
     "name": "stderr",
     "output_type": "stream",
     "text": [
      "LOCAL_RANK: 0 - CUDA_VISIBLE_DEVICES: [0]\n"
     ]
    },
    {
     "name": "stdout",
     "output_type": "stream",
     "text": [
      "Testing DataLoader 0: 100%|██████████| 291/291 [00:16<00:00, 17.50it/s]\n"
     ]
    },
    {
     "data": {
      "text/html": [
       "<pre style=\"white-space:pre;overflow-x:auto;line-height:normal;font-family:Menlo,'DejaVu Sans Mono',consolas,'Courier New',monospace\">┏━━━━━━━━━━━━━━━━━━━━━━━━━━━┳━━━━━━━━━━━━━━━━━━━━━━━━━━━┓\n",
       "┃<span style=\"font-weight: bold\">        Test metric        </span>┃<span style=\"font-weight: bold\">       DataLoader 0        </span>┃\n",
       "┡━━━━━━━━━━━━━━━━━━━━━━━━━━━╇━━━━━━━━━━━━━━━━━━━━━━━━━━━┩\n",
       "│<span style=\"color: #008080; text-decoration-color: #008080\">       test_accuracy       </span>│<span style=\"color: #800080; text-decoration-color: #800080\">    0.9119415807560137     </span>│\n",
       "│<span style=\"color: #008080; text-decoration-color: #008080\">         test_loss         </span>│<span style=\"color: #800080; text-decoration-color: #800080\">    0.2683464288711548     </span>│\n",
       "└───────────────────────────┴───────────────────────────┘\n",
       "</pre>\n"
      ],
      "text/plain": [
       "┏━━━━━━━━━━━━━━━━━━━━━━━━━━━┳━━━━━━━━━━━━━━━━━━━━━━━━━━━┓\n",
       "┃\u001b[1m \u001b[0m\u001b[1m       Test metric       \u001b[0m\u001b[1m \u001b[0m┃\u001b[1m \u001b[0m\u001b[1m      DataLoader 0       \u001b[0m\u001b[1m \u001b[0m┃\n",
       "┡━━━━━━━━━━━━━━━━━━━━━━━━━━━╇━━━━━━━━━━━━━━━━━━━━━━━━━━━┩\n",
       "│\u001b[36m \u001b[0m\u001b[36m      test_accuracy      \u001b[0m\u001b[36m \u001b[0m│\u001b[35m \u001b[0m\u001b[35m   0.9119415807560137    \u001b[0m\u001b[35m \u001b[0m│\n",
       "│\u001b[36m \u001b[0m\u001b[36m        test_loss        \u001b[0m\u001b[36m \u001b[0m│\u001b[35m \u001b[0m\u001b[35m   0.2683464288711548    \u001b[0m\u001b[35m \u001b[0m│\n",
       "└───────────────────────────┴───────────────────────────┘\n"
      ]
     },
     "metadata": {},
     "output_type": "display_data"
    },
    {
     "data": {
      "text/plain": [
       "[{'test_loss': 0.2683464288711548, 'test_accuracy': 0.9119415807560137}]"
      ]
     },
     "execution_count": 11,
     "metadata": {},
     "output_type": "execute_result"
    }
   ],
   "source": [
    "trainer.test(model=model, dataloaders=test_dataloader)"
   ]
  },
  {
   "cell_type": "markdown",
   "metadata": {},
   "source": [
    "## Results COCOCHORALES\n",
    "\n",
    "bumbling-breeze-34 bs=512 chunk_dur=2s test on COCOCHORALES bs=64 [{'test_loss': 3.28816819190979, 'test_accuracy': 0.9072003182461104}]\n",
    "\n",
    "bumbling-breeze-34 bs=512 chunk_dur=2s test on COCOCHORALES bs=2 [{'test_loss': 2.5330116748809814, 'test_accuracy': 0.9808440123729563}]\n",
    "\n",
    "---\n",
    "\n",
    "good-wave-24 bs=256 chunk_dur=5s test on COCOCHORALES bs=64 [{'test_loss': 0.24012035131454468, 'test_accuracy': 0.9311640893470791}]\n",
    "\n",
    "good-wave-24 bs=256 chunk_dur=5s test on COCOCHORALES bs=2 [{'test_loss': 0.011269009672105312, 'test_accuracy': 0.997055043906618}]\n",
    "\n",
    "---\n",
    "\n",
    "golden-dew-25 bs=128 chunk_dur=10s test on COCOCHORALES bs=64 [{'test_loss': 1.371890902519226, 'test_accuracy': 0.9197303921568627}]\n",
    "\n",
    "golden-dew-25 bs=128 chunk_dur=10s test on COCOCHORALES bs=2 [{'test_loss': 0.5721641182899475, 'test_accuracy': 0.9725274725274725}]\n",
    "\n",
    "---\n",
    "flowing-sound-26 bs=96 chunk_dur=15s test on COCOCHORALES bs=64 [{'test_loss': 0.1298881322145462, 'test_accuracy': 0.9505208333333334}]\n",
    "\n",
    "flowing-sound-26 bs=96 chunk_dur=15s test on COCOCHORALES bs=2 [{'test_loss': 0.0018012290820479393, 'test_accuracy': 0.9992791234140715}]\n",
    "\n",
    "---\n",
    "frosty-silence-39 bs=32 chunk_dur=5s test on COCOCHORALES bs=64 [{'test_loss': 0.2683464288711548, 'test_accuracy': 0.9119415807560137}]\n",
    "\n",
    "frosty-silence-39 bs=32 chunk_dur=5s test on COCOCHORALES bs=2 [{'test_loss': 0.010394576005637646, 'test_accuracy': 0.9968408652816448}]\n",
    "\n"
   ]
  },
  {
   "cell_type": "markdown",
   "metadata": {},
   "source": [
    "## MusDB\n"
   ]
  },
  {
   "cell_type": "code",
   "execution_count": 7,
   "metadata": {},
   "outputs": [
    {
     "name": "stderr",
     "output_type": "stream",
     "text": [
      "INFO:Found original dataset split train at /disk1/demancum/musdb_contrastive/original/train.\n",
      "INFO:Found preprocessed dataset split train at /disk1/demancum/musdb_contrastive/preprocessed5/train.\n",
      "LOCAL_RANK: 0 - CUDA_VISIBLE_DEVICES: [0]\n"
     ]
    },
    {
     "name": "stdout",
     "output_type": "stream",
     "text": [
      "Testing DataLoader 0: 100%|██████████| 144/144 [00:08<00:00, 16.25it/s]\n"
     ]
    },
    {
     "data": {
      "text/html": [
       "<pre style=\"white-space:pre;overflow-x:auto;line-height:normal;font-family:Menlo,'DejaVu Sans Mono',consolas,'Courier New',monospace\">┏━━━━━━━━━━━━━━━━━━━━━━━━━━━┳━━━━━━━━━━━━━━━━━━━━━━━━━━━┓\n",
       "┃<span style=\"font-weight: bold\">        Test metric        </span>┃<span style=\"font-weight: bold\">       DataLoader 0        </span>┃\n",
       "┡━━━━━━━━━━━━━━━━━━━━━━━━━━━╇━━━━━━━━━━━━━━━━━━━━━━━━━━━┩\n",
       "│<span style=\"color: #008080; text-decoration-color: #008080\">       test_accuracy       </span>│<span style=\"color: #800080; text-decoration-color: #800080\">    0.5073784722222222     </span>│\n",
       "│<span style=\"color: #008080; text-decoration-color: #008080\">         test_loss         </span>│<span style=\"color: #800080; text-decoration-color: #800080\">     2.596252202987671     </span>│\n",
       "└───────────────────────────┴───────────────────────────┘\n",
       "</pre>\n"
      ],
      "text/plain": [
       "┏━━━━━━━━━━━━━━━━━━━━━━━━━━━┳━━━━━━━━━━━━━━━━━━━━━━━━━━━┓\n",
       "┃\u001b[1m \u001b[0m\u001b[1m       Test metric       \u001b[0m\u001b[1m \u001b[0m┃\u001b[1m \u001b[0m\u001b[1m      DataLoader 0       \u001b[0m\u001b[1m \u001b[0m┃\n",
       "┡━━━━━━━━━━━━━━━━━━━━━━━━━━━╇━━━━━━━━━━━━━━━━━━━━━━━━━━━┩\n",
       "│\u001b[36m \u001b[0m\u001b[36m      test_accuracy      \u001b[0m\u001b[36m \u001b[0m│\u001b[35m \u001b[0m\u001b[35m   0.5073784722222222    \u001b[0m\u001b[35m \u001b[0m│\n",
       "│\u001b[36m \u001b[0m\u001b[36m        test_loss        \u001b[0m\u001b[36m \u001b[0m│\u001b[35m \u001b[0m\u001b[35m    2.596252202987671    \u001b[0m\u001b[35m \u001b[0m│\n",
       "└───────────────────────────┴───────────────────────────┘\n"
      ]
     },
     "metadata": {},
     "output_type": "display_data"
    },
    {
     "data": {
      "text/plain": [
       "[{'test_loss': 2.596252202987671, 'test_accuracy': 0.5073784722222222}]"
      ]
     },
     "execution_count": 7,
     "metadata": {},
     "output_type": "execute_result"
    }
   ],
   "source": [
    "# Using train split since it is not used from training\n",
    "test_dataset = musdb_contrastive_preprocessed.get_dataset(\n",
    "    split=\"train\",\n",
    "    chunk_duration=5,\n",
    "    positive_noise=0,\n",
    "    generate_submixtures=True,\n",
    "    transform=None\n",
    "    )\n",
    "\n",
    "test_dataloader = DataLoader(\n",
    "    test_dataset,\n",
    "    batch_size=64,\n",
    "    shuffle=False,\n",
    "    drop_last=True,\n",
    "    num_workers=os.cpu_count(),\n",
    "    persistent_workers=True\n",
    "    )\n",
    "\n",
    "trainer.test(model=model, dataloaders=test_dataloader)\n",
    "\n"
   ]
  },
  {
   "cell_type": "markdown",
   "metadata": {},
   "source": [
    "## Results MusDB\n",
    "\n",
    "bumbling-breeze-34 bs=512 chunk_dur=2s test on MusDB bs=64 [{'test_loss': 17.289331436157227, 'test_accuracy': 0.4112255586592179}]\n",
    "\n",
    "bumbling-breeze-34 bs=512 chunk_dur=2s test on MusDB bs=2 [{'test_loss': 13.33316707611084, 'test_accuracy': 0.8486590038314177}]\n",
    "\n",
    "---\n",
    "\n",
    "good-wave-24 bs=256 chunk_dur=5s test on MusDB bs=64 [{'test_loss': 4.149162769317627, 'test_accuracy': 0.3428819444444444}]\n",
    "\n",
    "good-wave-24 bs=256 chunk_dur=5s test on MusDB bs=2 [{'test_loss': 0.6049458980560303, 'test_accuracy': 0.8654470664646027}]\n",
    "\n",
    "---\n",
    "\n",
    "golden-dew-25 bs=128 chunk_dur=10s test on MusDB bs=64 [{'test_loss': 12.250128746032715, 'test_accuracy': 0.296875}]\n",
    "\n",
    "\n",
    "golden-dew-25 bs=128 chunk_dur=10s test on MusDB bs=2 [{'test_loss': 6.9717888832092285, 'test_accuracy': 0.8437097466723916}]\n",
    "\n",
    "---\n",
    "\n",
    "flowing-sound-26 bs=96 chunk_dur=15s test on MusDB bs=64 [{'test_loss': 4.6844329833984375, 'test_accuracy': 0.2688802083333333}]\n",
    "\n",
    "flowing-sound-26 bs=96 chunk_dur=15s test on MusDB bs=2 [{'test_loss': 0.8233780264854431, 'test_accuracy': 0.7988505747126438}]\n",
    "\n",
    "---\n",
    "\n",
    "frosty-silence-39 bs=32 chunk_dur=5s test on MusDB bs=64 [{'test_loss': 2.596252202987671, 'test_accuracy': 0.5073784722222222}]\n",
    "\n",
    "frosty-silence-39 bs=32 chunk_dur=5s test on MusDB bs=2 [{'test_loss': 0.30304449796676636, 'test_accuracy': 0.9180558562459407}]"
   ]
  },
  {
   "cell_type": "markdown",
   "metadata": {},
   "source": []
  }
 ],
 "metadata": {
  "kernelspec": {
   "display_name": "cocola",
   "language": "python",
   "name": "python3"
  },
  "language_info": {
   "codemirror_mode": {
    "name": "ipython",
    "version": 3
   },
   "file_extension": ".py",
   "mimetype": "text/x-python",
   "name": "python",
   "nbconvert_exporter": "python",
   "pygments_lexer": "ipython3",
   "version": "3.11.9"
  }
 },
 "nbformat": 4,
 "nbformat_minor": 2
}
