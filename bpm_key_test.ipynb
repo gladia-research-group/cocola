{
 "cells": [
  {
   "cell_type": "code",
   "execution_count": 22,
   "metadata": {},
   "outputs": [
    {
     "name": "stdout",
     "output_type": "stream",
     "text": [
      "Model weights already exist.\n",
      "Predicted Tempo: 121.0 BPM\n"
     ]
    },
    {
     "name": "stderr",
     "output_type": "stream",
     "text": [
      "/home/demancum/miniconda3/envs/cocola_test/lib/python3.11/site-packages/deeprhythm/utils.py:99: UserWarning: To copy construct from a tensor, it is recommended to use sourceTensor.clone().detach() or sourceTensor.clone().detach().requires_grad_(True), rather than torch.tensor(sourceTensor).\n",
      "  clip_tensor = torch.tensor(audio[i:i + clip_samples], dtype=torch.float32)\n"
     ]
    }
   ],
   "source": [
    "from deeprhythm import DeepRhythmPredictor\n",
    "import torchaudio\n",
    "import librosa\n",
    "\n",
    "model = DeepRhythmPredictor()\n",
    "waveform, sr = torchaudio.load('/disk1/demancum/slakh2100_contrastive/original/slakh2100_redux_16k/test/Track01876/mix.flac')\n",
    "\n",
    "waveform = waveform.view(-1)\n",
    "tempo = model.predict_from_audio(waveform, sr)\n",
    "\n",
    "# to include confidence\n",
    "tempo, confidence = model.predict_from_audio(waveform, sr, include_confidence=True)\n",
    "\n",
    "print(f\"Predicted Tempo: {tempo} BPM\")"
   ]
  },
  {
   "cell_type": "code",
   "execution_count": null,
   "metadata": {},
   "outputs": [
    {
     "name": "stdout",
     "output_type": "stream",
     "text": [
      "F# major\n"
     ]
    }
   ],
   "source": [
    "import sys\n",
    "import essentia\n",
    "from essentia.streaming import *\n",
    "\n",
    "\n",
    "# initialize algorithms we will use\n",
    "loader = MonoLoader(filename='/disk1/demancum/slakh2100_contrastive/original/slakh2100_redux_16k/test/Track01876/mix.flac')\n",
    "framecutter = FrameCutter()\n",
    "windowing = Windowing(type=\"blackmanharris62\")\n",
    "spectrum = Spectrum()\n",
    "spectralpeaks = SpectralPeaks(orderBy=\"magnitude\",\n",
    "                              magnitudeThreshold=1e-05,\n",
    "                              minFrequency=40,\n",
    "                              maxFrequency=5000, \n",
    "                              maxPeaks=10000)\n",
    "hpcp = HPCP()\n",
    "key = Key()\n",
    "\n",
    "# use pool to store data\n",
    "pool = essentia.Pool() \n",
    "\n",
    "# connect algorithms together\n",
    "loader.audio >> framecutter.signal\n",
    "framecutter.frame >> windowing.frame >> spectrum.frame\n",
    "spectrum.spectrum >> spectralpeaks.spectrum\n",
    "spectralpeaks.magnitudes >> hpcp.magnitudes\n",
    "spectralpeaks.frequencies >> hpcp.frequencies\n",
    "hpcp.hpcp >> key.pcp\n",
    "key.key >> (pool, 'tonal.key_key')\n",
    "key.scale >> (pool, 'tonal.key_scale')\n",
    "key.strength >> (pool, 'tonal.key_strength')\n",
    "\n",
    "# network is ready, run it\n",
    "essentia.run(loader)\n",
    "\n",
    "print(pool['tonal.key_key'] + \" \" + pool['tonal.key_scale'])\n",
    "\n",
    "\n"
   ]
  },
  {
   "cell_type": "code",
   "execution_count": null,
   "metadata": {},
   "outputs": [],
   "source": []
  }
 ],
 "metadata": {
  "kernelspec": {
   "display_name": "cocola_test",
   "language": "python",
   "name": "python3"
  },
  "language_info": {
   "codemirror_mode": {
    "name": "ipython",
    "version": 3
   },
   "file_extension": ".py",
   "mimetype": "text/x-python",
   "name": "python",
   "nbconvert_exporter": "python",
   "pygments_lexer": "ipython3",
   "version": "3.11.9"
  }
 },
 "nbformat": 4,
 "nbformat_minor": 2
}
